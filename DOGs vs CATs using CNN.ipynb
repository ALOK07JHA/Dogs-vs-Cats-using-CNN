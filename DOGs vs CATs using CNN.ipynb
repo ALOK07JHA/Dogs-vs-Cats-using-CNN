{
 "cells": [
  {
   "cell_type": "code",
   "execution_count": 1,
   "metadata": {},
   "outputs": [],
   "source": [
    "#1.Import libraries\n",
    "import tensorflow as tf\n",
    "import keras\n",
    "from tensorflow.keras.layers import Conv2D, MaxPooling2D"
   ]
  },
  {
   "cell_type": "code",
   "execution_count": 2,
   "metadata": {},
   "outputs": [],
   "source": [
    "from keras.preprocessing.image import ImageDataGenerator"
   ]
  },
  {
   "cell_type": "code",
   "execution_count": 3,
   "metadata": {},
   "outputs": [
    {
     "name": "stdout",
     "output_type": "stream",
     "text": [
      "Found 25000 images belonging to 2 classes.\n"
     ]
    }
   ],
   "source": [
    "#2.Data Preprocessing\n",
    "train_datagen = ImageDataGenerator(\n",
    "        rescale=1./255,\n",
    "        shear_range=0.2,\n",
    "        zoom_range=0.2,\n",
    "        horizontal_flip=True)\n",
    "\n",
    "#training data location\n",
    "train_generator = train_datagen.flow_from_directory(\n",
    "        'D:/dataset/training_set',\n",
    "        target_size=(64,64),\n",
    "        batch_size=32,\n",
    "        class_mode='binary')"
   ]
  },
  {
   "cell_type": "code",
   "execution_count": 4,
   "metadata": {},
   "outputs": [
    {
     "name": "stdout",
     "output_type": "stream",
     "text": [
      "Found 25000 images belonging to 2 classes.\n"
     ]
    }
   ],
   "source": [
    "test_datagen = ImageDataGenerator(rescale=1./255)\n",
    "validation_generator = test_datagen.flow_from_directory(\n",
    "        'D:/dataset/training_set',\n",
    "        target_size=(64, 64),\n",
    "        batch_size=32,\n",
    "        class_mode='binary')"
   ]
  },
  {
   "cell_type": "code",
   "execution_count": 5,
   "metadata": {},
   "outputs": [],
   "source": [
    "#Build the CNN model\n",
    "#First we need to initilise the model\n",
    "\n",
    "cnn = tf.keras.models.Sequential()"
   ]
  },
  {
   "cell_type": "code",
   "execution_count": 6,
   "metadata": {},
   "outputs": [],
   "source": [
    "# Do convolution \n",
    "\n",
    "cnn.add(tf.keras.layers.Conv2D(filters = 32,kernel_size =3,activation='relu',input_shape = [64,64,3] ))"
   ]
  },
  {
   "cell_type": "code",
   "execution_count": 7,
   "metadata": {},
   "outputs": [],
   "source": [
    "#Pooling\n",
    "\n",
    "cnn.add(tf.keras.layers.MaxPool2D(pool_size = 2,strides = 2))"
   ]
  },
  {
   "cell_type": "code",
   "execution_count": 8,
   "metadata": {},
   "outputs": [],
   "source": [
    "# Add 1 more layer\n",
    "\n",
    "cnn.add(tf.keras.layers.Conv2D(filters = 32,kernel_size =3,activation='relu'))\n",
    "\n",
    "cnn.add(tf.keras.layers.MaxPool2D(pool_size = 2,strides = 2))"
   ]
  },
  {
   "cell_type": "code",
   "execution_count": 9,
   "metadata": {},
   "outputs": [],
   "source": [
    "#Flatten\n",
    "\n",
    "cnn.add(tf.keras.layers.Flatten())"
   ]
  },
  {
   "cell_type": "code",
   "execution_count": 10,
   "metadata": {},
   "outputs": [],
   "source": [
    "#FULL connection \n",
    "\n",
    "cnn.add(tf.keras.layers.Dense(units = 128,activation ='relu'))"
   ]
  },
  {
   "cell_type": "code",
   "execution_count": 11,
   "metadata": {},
   "outputs": [],
   "source": [
    "#Output layer\n",
    "\n",
    "cnn.add(tf.keras.layers.Dense(units = 1,activation ='sigmoid'))"
   ]
  },
  {
   "cell_type": "code",
   "execution_count": 12,
   "metadata": {},
   "outputs": [],
   "source": [
    "#Compile the model\n",
    "\n",
    "cnn.compile(optimizer = 'adam',loss = 'binary_crossentropy',metrics = ['accuracy'])"
   ]
  },
  {
   "cell_type": "code",
   "execution_count": 13,
   "metadata": {},
   "outputs": [
    {
     "name": "stdout",
     "output_type": "stream",
     "text": [
      "Epoch 1/20\n",
      "782/782 [==============================] - 341s 435ms/step - loss: 0.6341 - accuracy: 0.6356 - val_loss: 0.5797 - val_accuracy: 0.6904\n",
      "Epoch 2/20\n",
      "782/782 [==============================] - 151s 193ms/step - loss: 0.5440 - accuracy: 0.7232 - val_loss: 0.4838 - val_accuracy: 0.7630\n",
      "Epoch 3/20\n",
      "782/782 [==============================] - 144s 184ms/step - loss: 0.4970 - accuracy: 0.7595 - val_loss: 0.4598 - val_accuracy: 0.7794\n",
      "Epoch 4/20\n",
      "782/782 [==============================] - 151s 193ms/step - loss: 0.4658 - accuracy: 0.7781 - val_loss: 0.4218 - val_accuracy: 0.8053\n",
      "Epoch 5/20\n",
      "782/782 [==============================] - 145s 186ms/step - loss: 0.4434 - accuracy: 0.7924 - val_loss: 0.4649 - val_accuracy: 0.7831\n",
      "Epoch 6/20\n",
      "782/782 [==============================] - 144s 184ms/step - loss: 0.4279 - accuracy: 0.7995 - val_loss: 0.3849 - val_accuracy: 0.8272\n",
      "Epoch 7/20\n",
      "782/782 [==============================] - 146s 187ms/step - loss: 0.4160 - accuracy: 0.8090 - val_loss: 0.3652 - val_accuracy: 0.8403\n",
      "Epoch 8/20\n",
      "782/782 [==============================] - 146s 187ms/step - loss: 0.3960 - accuracy: 0.8194 - val_loss: 0.3517 - val_accuracy: 0.8444\n",
      "Epoch 9/20\n",
      "782/782 [==============================] - 146s 186ms/step - loss: 0.3809 - accuracy: 0.8284 - val_loss: 0.3770 - val_accuracy: 0.8323\n",
      "Epoch 10/20\n",
      "782/782 [==============================] - 144s 185ms/step - loss: 0.3675 - accuracy: 0.8342 - val_loss: 0.3231 - val_accuracy: 0.8597\n",
      "Epoch 11/20\n",
      "782/782 [==============================] - 144s 185ms/step - loss: 0.3577 - accuracy: 0.8387 - val_loss: 0.3222 - val_accuracy: 0.8593\n",
      "Epoch 12/20\n",
      "782/782 [==============================] - 147s 189ms/step - loss: 0.3471 - accuracy: 0.8446 - val_loss: 0.2945 - val_accuracy: 0.8758\n",
      "Epoch 13/20\n",
      "782/782 [==============================] - 145s 186ms/step - loss: 0.3317 - accuracy: 0.8534 - val_loss: 0.2932 - val_accuracy: 0.8744\n",
      "Epoch 14/20\n",
      "782/782 [==============================] - 150s 192ms/step - loss: 0.3213 - accuracy: 0.8610 - val_loss: 0.2626 - val_accuracy: 0.8930\n",
      "Epoch 15/20\n",
      "782/782 [==============================] - 157s 200ms/step - loss: 0.3091 - accuracy: 0.8668 - val_loss: 0.2533 - val_accuracy: 0.8936\n",
      "Epoch 16/20\n",
      "782/782 [==============================] - 145s 186ms/step - loss: 0.2956 - accuracy: 0.8736 - val_loss: 0.2456 - val_accuracy: 0.8970\n",
      "Epoch 17/20\n",
      "782/782 [==============================] - 143s 183ms/step - loss: 0.2862 - accuracy: 0.8768 - val_loss: 0.2297 - val_accuracy: 0.9074\n",
      "Epoch 18/20\n",
      "782/782 [==============================] - 143s 182ms/step - loss: 0.2758 - accuracy: 0.8848 - val_loss: 0.2312 - val_accuracy: 0.9036\n",
      "Epoch 19/20\n",
      "782/782 [==============================] - 142s 181ms/step - loss: 0.2658 - accuracy: 0.8883 - val_loss: 0.2147 - val_accuracy: 0.9123\n",
      "Epoch 20/20\n",
      "782/782 [==============================] - 141s 180ms/step - loss: 0.2601 - accuracy: 0.8908 - val_loss: 0.2399 - val_accuracy: 0.9018\n"
     ]
    }
   ],
   "source": [
    "#Train the model\n",
    "\n",
    "\n",
    "history = cnn.fit(x=train_generator,validation_data=validation_generator, epochs = 20)"
   ]
  },
  {
   "cell_type": "code",
   "execution_count": 14,
   "metadata": {},
   "outputs": [],
   "source": [
    "#Make single prediction\n",
    "\n",
    "import numpy as np\n",
    "from keras.preprocessing import image\n",
    "#test data location\n",
    "test_image = image.load_img('D:/dataset/test1/prediction/predict3.jpg',target_size = (64,64) )\n",
    "test_image = image.img_to_array(test_image)\n",
    "test_image = np.expand_dims(test_image,axis=0)\n",
    "result = cnn.predict(test_image)\n",
    "train_generator.class_indices\n",
    "if result[0][0] == 1 : \n",
    "    prediction = 'dog'\n",
    "else:\n",
    "    prediction = 'cat'"
   ]
  },
  {
   "cell_type": "code",
   "execution_count": 15,
   "metadata": {},
   "outputs": [
    {
     "data": {
      "text/plain": [
       "'cat'"
      ]
     },
     "execution_count": 15,
     "metadata": {},
     "output_type": "execute_result"
    }
   ],
   "source": [
    "prediction"
   ]
  },
  {
   "cell_type": "code",
   "execution_count": 16,
   "metadata": {},
   "outputs": [
    {
     "name": "stdout",
     "output_type": "stream",
     "text": [
      "dict_keys(['loss', 'accuracy', 'val_loss', 'val_accuracy'])\n"
     ]
    }
   ],
   "source": [
    "import matplotlib.pyplot as plt\n",
    "print(history.history.keys())"
   ]
  },
  {
   "cell_type": "code",
   "execution_count": 17,
   "metadata": {},
   "outputs": [
    {
     "data": {
      "text/plain": [
       "[<matplotlib.lines.Line2D at 0x21dd2a40700>]"
      ]
     },
     "execution_count": 17,
     "metadata": {},
     "output_type": "execute_result"
    },
    {
     "data": {
      "image/png": "[encoded data removed]",
      "text/plain": [
       "<Figure size 432x288 with 1 Axes>"
      ]
     },
     "metadata": {
      "needs_background": "light"
     },
     "output_type": "display_data"
    }
   ],
   "source": [
    "#Graph plot\n",
    "plt.plot(history.history['accuracy'])\n",
    "plt.plot(history.history['loss'])\n",
    "plt.plot(history.history['val_loss'])\n",
    "plt.plot(history.history['val_accuracy'])"
   ]
  }
 ],
 "metadata": {
  "kernelspec": {
   "display_name": "Python 3 (ipykernel)",
   "language": "python",
   "name": "python3"
  },
  "language_info": {
   "codemirror_mode": {
    "name": "ipython",
    "version": 3
   },
   "file_extension": ".py",
   "mimetype": "text/x-python",
   "name": "python",
   "nbconvert_exporter": "python",
   "pygments_lexer": "ipython3",
   "version": "3.9.7"
  }
 },
 "nbformat": 4,
 "nbformat_minor": 4
}
